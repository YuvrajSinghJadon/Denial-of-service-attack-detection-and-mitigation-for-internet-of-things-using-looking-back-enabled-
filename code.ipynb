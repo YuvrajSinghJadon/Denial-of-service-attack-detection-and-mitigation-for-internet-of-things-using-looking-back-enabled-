{
 "cells": [
  {
   "cell_type": "markdown",
   "id": "5ebc1ee6",
   "metadata": {},
   "source": [
    "## <center>IT353 - Information Assurance and Security</center>\n",
    "## <center>Course Project Mid Semester Evaluation</center>\n",
    "## Group Members\n",
    "\n",
    " > Yuvraj Singh Jadon  201IT268<br>\n",
    " > Harshita BL  <br>\n",
    " > Kalpana Talvar\n",
    " "
   ]
  },
  {
   "cell_type": "markdown",
   "id": "08f4e85a",
   "metadata": {},
   "source": [
    "## The aim of this work is to predict the type of cyber-attacks, and more precisely, the subcategories of DoS and DDoS attacks.\n",
    "## The first configuration is named the \"Basic Approach\" and the second one is the \"Looking- Back Approach\" (\"LB Approach\"). \n",
    "## We have chosed the BOT-IOT dataset you can visit the dataset using the below link https://cloudstor.aarnet.edu.au/plus/s/umT99TnxvbpkkoE?path=%2FCSV%2FTraning%20and%20Testing%20Tets%20(5%25%20of%20the%20entier%20dataset)%2F10-best%20features\n"
   ]
  },
  {
   "cell_type": "code",
   "execution_count": 8,
   "id": "f33255d9",
   "metadata": {},
   "outputs": [
    {
     "name": "stdout",
     "output_type": "stream",
     "text": [
      "\u001b[1;31m When 0 looking back steps are taken. \u001b[0m\n",
      "\u001b[1;31m Evolution scores using DecisionTreeClassifier \u001b[0m\n",
      "Accuracy: 0.9999904593808138\n",
      "F1 Score: 0.9999903452748313\n",
      "Kappa Score: 0.966502408775353\n",
      "\u001b[1;31mRandomForestClassifier\u001b[0m\n",
      "Accuracy: 0.9999904593808138\n",
      "F1-measure: 0.9999952290173889\n",
      "Kappa coefficient: 0.9661788093532448\n"
     ]
    },
    {
     "name": "stderr",
     "output_type": "stream",
     "text": [
      "/Users/mymac/opt/anaconda3/lib/python3.9/site-packages/sklearn/neighbors/_classification.py:228: FutureWarning: Unlike other reduction functions (e.g. `skew`, `kurtosis`), the default behavior of `mode` typically preserves the axis it acts along. In SciPy 1.11.0, this behavior will change: the default value of `keepdims` will become False, the `axis` over which the statistic is taken will be eliminated, and the value None will no longer be accepted. Set `keepdims` to True or False to avoid this warning.\n",
      "  mode, _ = stats.mode(_y[neigh_ind, k], axis=1)\n"
     ]
    },
    {
     "name": "stdout",
     "output_type": "stream",
     "text": [
      "\u001b[1;31mKNeighborsClassifier\u001b[0m\n",
      "Accuracy: 0.9999373045024907\n",
      "F1-score: 0.8925076883254683\n",
      "Kappa coefficient: 0.7850153766509367\n",
      "\u001b[1;31mMLPClassifier\u001b[0m\n",
      "Accuracy score: 0.9998528018754131\n",
      "F1-measure: 0.9999263945172093\n",
      "Kappa coefficient: 0.15620962280102424\n",
      "\u001b[1;31m When 1 looking back steps are taken. \u001b[0m\n",
      "\u001b[1;31m Evolution scores using DecisionTreeClassifier \u001b[0m\n",
      "Accuracy: 0.9999890964203548\n",
      "F1 Score: 0.9999889391794816\n",
      "Kappa Score: 0.9615330135134804\n",
      "\u001b[1;31mRandomForestClassifier\u001b[0m\n",
      "Accuracy: 0.9999890964203548\n",
      "F1-measure: 0.9999945474447282\n",
      "Kappa coefficient: 0.9611596042128604\n"
     ]
    },
    {
     "name": "stderr",
     "output_type": "stream",
     "text": [
      "/Users/mymac/opt/anaconda3/lib/python3.9/site-packages/sklearn/neighbors/_classification.py:228: FutureWarning: Unlike other reduction functions (e.g. `skew`, `kurtosis`), the default behavior of `mode` typically preserves the axis it acts along. In SciPy 1.11.0, this behavior will change: the default value of `keepdims` will become False, the `axis` over which the statistic is taken will be eliminated, and the value None will no longer be accepted. Set `keepdims` to True or False to avoid this warning.\n",
      "  mode, _ = stats.mode(_y[neigh_ind, k], axis=1)\n"
     ]
    },
    {
     "name": "stdout",
     "output_type": "stream",
     "text": [
      "\u001b[1;31mKNeighborsClassifier\u001b[0m\n",
      "Accuracy: 0.9999373044170401\n",
      "F1-score: 0.8925076883040994\n",
      "Kappa coefficient: 0.7850153766081989\n",
      "\u001b[1;31mMLPClassifier\u001b[0m\n",
      "Accuracy score: 0.9998364463053221\n",
      "F1-measure: 0.9999182152384095\n",
      "Kappa coefficient: 0.15486882041029626\n",
      "\u001b[1;31m When 2 looking back steps are taken. \u001b[0m\n",
      "\u001b[1;31m Evolution scores using DecisionTreeClassifier \u001b[0m\n",
      "Accuracy: 0.9999890963906327\n",
      "F1 Score: 0.9999889391493308\n",
      "Kappa Score: 0.9615330134986275\n",
      "\u001b[1;31mRandomForestClassifier\u001b[0m\n",
      "Accuracy: 0.9999890963906327\n",
      "F1-measure: 0.9999945474298629\n",
      "Kappa coefficient: 0.9611596041980176\n"
     ]
    },
    {
     "name": "stderr",
     "output_type": "stream",
     "text": [
      "/Users/mymac/opt/anaconda3/lib/python3.9/site-packages/sklearn/neighbors/_classification.py:228: FutureWarning: Unlike other reduction functions (e.g. `skew`, `kurtosis`), the default behavior of `mode` typically preserves the axis it acts along. In SciPy 1.11.0, this behavior will change: the default value of `keepdims` will become False, the `axis` over which the statistic is taken will be eliminated, and the value None will no longer be accepted. Set `keepdims` to True or False to avoid this warning.\n",
      "  mode, _ = stats.mode(_y[neigh_ind, k], axis=1)\n"
     ]
    },
    {
     "name": "stdout",
     "output_type": "stream",
     "text": [
      "\u001b[1;31mKNeighborsClassifier\u001b[0m\n",
      "Accuracy: 0.999937304246138\n",
      "F1-score: 0.8925076882613614\n",
      "Kappa coefficient: 0.7850153765227229\n",
      "\u001b[1;31mMLPClassifier\u001b[0m\n",
      "Accuracy score: 0.9998105497872434\n",
      "F1-measure: 0.9999052643703387\n",
      "Kappa coefficient: 0.1471538033468437\n",
      "\u001b[1;31m When 3 looking back steps are taken. \u001b[0m\n",
      "\u001b[1;31m Evolution scores using DecisionTreeClassifier \u001b[0m\n",
      "Accuracy: 0.9999904593027931\n",
      "F1 Score: 0.9999903451958776\n",
      "Kappa Score: 0.9665024087363538\n",
      "\u001b[1;31mRandomForestClassifier\u001b[0m\n",
      "Accuracy: 0.999991822259537\n",
      "F1-measure: 0.9999959105500992\n",
      "Kappa coefficient: 0.9711497601072611\n"
     ]
    },
    {
     "name": "stderr",
     "output_type": "stream",
     "text": [
      "/Users/mymac/opt/anaconda3/lib/python3.9/site-packages/sklearn/neighbors/_classification.py:228: FutureWarning: Unlike other reduction functions (e.g. `skew`, `kurtosis`), the default behavior of `mode` typically preserves the axis it acts along. In SciPy 1.11.0, this behavior will change: the default value of `keepdims` will become False, the `axis` over which the statistic is taken will be eliminated, and the value None will no longer be accepted. Set `keepdims` to True or False to avoid this warning.\n",
      "  mode, _ = stats.mode(_y[neigh_ind, k], axis=1)\n"
     ]
    },
    {
     "name": "stdout",
     "output_type": "stream",
     "text": [
      "\u001b[1;31mKNeighborsClassifier\u001b[0m\n",
      "Accuracy: 0.9999373039897833\n",
      "F1-score: 0.892507688197254\n",
      "Kappa coefficient: 0.7850153763945081\n",
      "\u001b[1;31mMLPClassifier\u001b[0m\n",
      "Accuracy score: 0.9998200897098128\n",
      "F1-measure: 0.9999100352907019\n",
      "Kappa coefficient: 0.15376862622639997\n",
      "\u001b[1;31m When 4 looking back steps are taken. \u001b[0m\n",
      "\u001b[1;31m Evolution scores using DecisionTreeClassifier \u001b[0m\n",
      "Accuracy: 0.9999904592507786\n",
      "F1 Score: 0.9999903451432411\n",
      "Kappa Score: 0.966502408710354\n",
      "\u001b[1;31mRandomForestClassifier\u001b[0m\n",
      "Accuracy: 0.9999918222149531\n",
      "F1-measure: 0.9999959105278009\n",
      "Kappa coefficient: 0.9711497600849813\n"
     ]
    },
    {
     "name": "stderr",
     "output_type": "stream",
     "text": [
      "/Users/mymac/opt/anaconda3/lib/python3.9/site-packages/sklearn/neighbors/_classification.py:228: FutureWarning: Unlike other reduction functions (e.g. `skew`, `kurtosis`), the default behavior of `mode` typically preserves the axis it acts along. In SciPy 1.11.0, this behavior will change: the default value of `keepdims` will become False, the `axis` over which the statistic is taken will be eliminated, and the value None will no longer be accepted. Set `keepdims` to True or False to avoid this warning.\n",
      "  mode, _ = stats.mode(_y[neigh_ind, k], axis=1)\n"
     ]
    },
    {
     "name": "stdout",
     "output_type": "stream",
     "text": [
      "\u001b[1;31mKNeighborsClassifier\u001b[0m\n",
      "Accuracy: 0.9999373036479736\n",
      "F1-score: 0.8925076881117766\n",
      "Kappa coefficient: 0.7850153762235534\n",
      "\u001b[1;31mMLPClassifier\u001b[0m\n",
      "Accuracy score: 0.9997573923769414\n",
      "F1-measure: 0.9998786793221854\n",
      "Kappa coefficient: 0.127329951278899\n"
     ]
    }
   ],
   "source": [
    "# Import necessary libraries\n",
    "import pandas as pd\n",
    "from sklearn.tree import DecisionTreeClassifier\n",
    "from sklearn.metrics import accuracy_score, f1_score, cohen_kappa_score\n",
    "\n",
    "# Load preprocessed training and testing datasets\n",
    "train_data = pd.read_csv('Training.csv')\n",
    "test_data = pd.read_csv('Testing.csv')\n",
    "unwanted_features = ['pkSeqID', 'proto', 'saddr', 'sport', 'daddr', 'dport', 'category','subcategory']\n",
    "train_data.drop(columns=unwanted_features, inplace=True)\n",
    "test_data.drop(columns=unwanted_features, inplace=True)\n",
    "\n",
    "\n",
    "DT_acc =[]\n",
    "DT_kappa =[]\n",
    "\n",
    "RF_acc =[] \n",
    "RF_kappa =[] \n",
    "\n",
    "KNN_acc =[] \n",
    "KNN_kappa =[] \n",
    "\n",
    "MLP_acc =[] \n",
    "MLP_kappa =[]\n",
    "\n",
    "\n",
    "\n",
    "\n",
    "\n",
    "# Set Looking-Back time step p\n",
    "for p in range (0,5,1):\n",
    "    # Extract previous attack types for each sample in the training data\n",
    "    train_attack_history = []\n",
    "    for i in range(p, len(train_data)):\n",
    "        attack_history = tuple(train_data['attack'][i-p:i])\n",
    "        train_attack_history.append(attack_history)\n",
    "    train_data = train_data.iloc[p:]\n",
    "    train_data['attack_history'] = train_attack_history\n",
    "\n",
    "    # Extract previous attack types for each sample in the testing data\n",
    "    test_attack_history = []\n",
    "    for i in range(p, len(test_data)):\n",
    "        attack_history = tuple(test_data['attack'][i-p:i])\n",
    "        test_attack_history.append(attack_history)\n",
    "    test_data = test_data.iloc[p:]\n",
    "    test_data['attack_history'] = test_attack_history\n",
    "\n",
    "    # Split features and target for training and testing datasets\n",
    "    X_train = train_data.drop(['attack', 'attack_history'], axis=1)\n",
    "    y_train = train_data['attack']\n",
    "    X_test = test_data.drop(['attack', 'attack_history'], axis=1)\n",
    "    y_test = test_data['attack']\n",
    "    y_true = y_test\n",
    "    print(f\"\\033[1;31m When {p} looking back steps are taken. \\033[0m\")\n",
    "\n",
    "    \n",
    "    # Fit the Decision Tree classifier on the training data\n",
    "    clf = DecisionTreeClassifier()\n",
    "    clf.fit(X_train, y_train)\n",
    "\n",
    "    # Make predictions on the testing data\n",
    "    y_pred = clf.predict(X_test)\n",
    "\n",
    "    # Evaluate the model using accuracy score, f1 score, and kappa score\n",
    "    accuracy = accuracy_score(y_test, y_pred)\n",
    "    f1 = f1_score(y_test, y_pred, average='weighted')\n",
    "    kappa = cohen_kappa_score(y_test, y_pred)\n",
    "\n",
    "    \n",
    "    # Print the evaluation scores\n",
    "    print(f\"\\033[1;31m Evolution scores using DecisionTreeClassifier \\033[0m\")\n",
    "    print('Accuracy:', accuracy)\n",
    "    print('F1 Score:', f1)\n",
    "    print('Kappa Score:', kappa)\n",
    "    DT_acc.append(accuracy)\n",
    "    DT_kappa.append(kappa)\n",
    "    \n",
    "    \n",
    "    \n",
    "    from sklearn.ensemble import RandomForestClassifier\n",
    "    # Create the Random Forest model\n",
    "    rfc = RandomForestClassifier(n_estimators=100, random_state=42)\n",
    "\n",
    "    # Train the model on the training set\n",
    "    rfc.fit(X_train, y_train)\n",
    "\n",
    "    # Test the model on the testing set\n",
    "    y_pred = rfc.predict(X_test)\n",
    "\n",
    "    accuracy = accuracy_score(y_test, y_pred)\n",
    "    f1 = f1_score(y_pred, y_true)\n",
    "\n",
    "    print('\\033[1;31m' + 'RandomForestClassifier' + '\\033[0m')\n",
    "    print(\"Accuracy:\", accuracy)\n",
    "    print(\"F1-measure:\", f1)\n",
    "    RF_acc.append(accuracy)\n",
    "\n",
    "    kappa = cohen_kappa_score(y_true, y_pred)\n",
    "\n",
    "    # Print kappa coefficient\n",
    "    print(\"Kappa coefficient:\", kappa)\n",
    "    RF_kappa.append(kappa)\n",
    "    \n",
    "    \n",
    "    from sklearn.neighbors import KNeighborsClassifier\n",
    "    # Create the KNN model with k=2\n",
    "    knn = KNeighborsClassifier(n_neighbors=2)\n",
    "\n",
    "    # Train the model on the training set\n",
    "    knn.fit(X_train, y_train)\n",
    "\n",
    "    # Test the model on the testing set\n",
    "    y_pred = knn.predict(X_test)\n",
    "\n",
    "    # Calculate the evaluation metrics\n",
    "    accuracy = accuracy_score(y_test, y_pred)\n",
    "    f1 = f1_score(y_test, y_pred, average='macro')\n",
    "    kappa = cohen_kappa_score(y_test, y_pred)\n",
    "\n",
    "    # Print the evaluation metrics\n",
    "    print('\\033[1;31m' + 'KNeighborsClassifier' + '\\033[0m')\n",
    "\n",
    "    print(\"Accuracy:\", accuracy)\n",
    "    KNN_acc.append(accuracy) \n",
    "    print(\"F1-score:\", f1)\n",
    "    print(\"Kappa coefficient:\", kappa)\n",
    "    KNN_kappa.append(kappa) \n",
    "    \n",
    "    \n",
    "    from sklearn.neural_network import MLPClassifier\n",
    "    mlp = MLPClassifier()\n",
    "\n",
    "    # Train the model on the training data\n",
    "    mlp.fit(X_train, y_train)\n",
    "\n",
    "    # Make predictions on the test data\n",
    "    y_pred = mlp.predict(X_test)\n",
    "\n",
    "\n",
    "    acc = accuracy_score(y_true, y_pred)\n",
    "    f1 = f1_score(y_pred, y_true)\n",
    "\n",
    "    print('\\033[1;31m' + 'MLPClassifier' + '\\033[0m')\n",
    "    print(f\"Accuracy score: {acc}\")\n",
    "    MLP_acc.append(acc)\n",
    "    print(\"F1-measure:\", f1)\n",
    "\n",
    "    kappa = cohen_kappa_score(y_true, y_pred)\n",
    "\n",
    "    # Print kappa coefficient\n",
    "    print(\"Kappa coefficient:\", kappa)\n",
    "    MLP_kappa.append(kappa)"
   ]
  },
  {
   "cell_type": "code",
   "execution_count": 14,
   "id": "d82ebfcb",
   "metadata": {},
   "outputs": [
    {
     "name": "stdout",
     "output_type": "stream",
     "text": [
      "DT_acc: [0.9999904593808138, 0.9999890964203548, 0.9999890963906327, 0.9999904593027931, 0.9999904592507786]\n",
      "DT_kappa: [0.966502408775353, 0.9615330135134804, 0.9615330134986275, 0.9665024087363538, 0.966502408710354]\n",
      "RF_acc: [0.9999904593808138, 0.9999890964203548, 0.9999890963906327, 0.999991822259537, 0.9999918222149531]\n",
      "RF_kappa: [0.9661788093532448, 0.9611596042128604, 0.9611596041980176, 0.9711497601072611, 0.9711497600849813]\n",
      "KNN_acc: [0.9999373045024907, 0.9999373044170401, 0.999937304246138, 0.9999373039897833, 0.9999373036479736]\n",
      "KNN_kappa: [0.7850153766509367, 0.7850153766081989, 0.7850153765227229, 0.7850153763945081, 0.7850153762235534]\n",
      "MLP_acc: [0.9998528018754131, 0.9998364463053221, 0.9998105497872434, 0.9998200897098128, 0.9997573923769414]\n",
      "MLP_kappa: [0.15620962280102424, 0.15486882041029626, 0.1471538033468437, 0.15376862622639997, 0.127329951278899]\n"
     ]
    }
   ],
   "source": [
    "print(\"DT_acc:\", DT_acc)\n",
    "print(\"DT_kappa:\", DT_kappa)\n",
    "print(\"RF_acc:\", RF_acc)\n",
    "print(\"RF_kappa:\", RF_kappa)\n",
    "print(\"KNN_acc:\", KNN_acc)\n",
    "print(\"KNN_kappa:\", KNN_kappa)\n",
    "print(\"MLP_acc:\", MLP_acc)\n",
    "print(\"MLP_kappa:\", MLP_kappa)\n"
   ]
  },
  {
   "cell_type": "code",
   "execution_count": 18,
   "id": "2b021608",
   "metadata": {},
   "outputs": [
    {
     "data": {
      "image/png": "[encoded data removed]",
      "text/plain": [
       "<Figure size 640x480 with 1 Axes>"
      ]
     },
     "metadata": {},
     "output_type": "display_data"
    }
   ],
   "source": [
    "import matplotlib.pyplot as plt\n",
    "\n",
    "DT_acc = [0.9999904593808138, 0.9999890964203548, 0.9999890963906327, 0.9999904593027931, 0.9999904592507786]\n",
    "RF_acc = [0.9999904593808138, 0.9999890964203548, 0.9999890963906327, 0.999991822259537, 0.9999918222149531]\n",
    "KNN_acc = [0.9999373045024907, 0.9999373044170401, 0.999937304246138, 0.9999373039897833, 0.9999373036479736]\n",
    "MLP_acc = [0.9998528018754131, 0.9998364463053221, 0.9998105497872434, 0.9998200897098128, 0.9997573923769414]\n",
    "\n",
    "x = range(6)\n",
    "plt.plot(x[1:], DT_acc, '-o', label='DT', color='red')\n",
    "plt.plot(x[1:], RF_acc, '-o', label='RF', color='blue')\n",
    "plt.plot(x[1:], KNN_acc, '-o', label='KNN', color='green')\n",
    "plt.plot(x[1:], MLP_acc, '-o', label='MLP', color='purple')\n",
    "\n",
    "plt.xticks(x[1:])\n",
    "plt.xlabel('Looking back steps')\n",
    "plt.ylabel('Accuracy')\n",
    "plt.title('Accuracy of different models')\n",
    "\n",
    "plt.legend()\n",
    "plt.show()\n"
   ]
  },
  {
   "cell_type": "code",
   "execution_count": 19,
   "id": "81081e74",
   "metadata": {},
   "outputs": [
    {
     "data": {
      "image/png": "[encoded data removed]",
      "text/plain": [
       "<Figure size 640x480 with 1 Axes>"
      ]
     },
     "metadata": {},
     "output_type": "display_data"
    }
   ],
   "source": [
    "import matplotlib.pyplot as plt\n",
    "\n",
    "DT_kappa = [0.966502408775353, 0.9615330135134804, 0.9615330134986275, 0.9665024087363538, 0.966502408710354]\n",
    "RF_kappa = [0.9661788093532448, 0.9611596042128604, 0.9611596041980176, 0.9711497601072611, 0.9711497600849813]\n",
    "KNN_kappa = [0.7850153766509367, 0.7850153766081989, 0.7850153765227229, 0.7850153763945081, 0.7850153762235534]\n",
    "MLP_kappa = [0.15620962280102424, 0.15486882041029626, 0.1471538033468437, 0.15376862622639997, 0.127329951278899]\n",
    "\n",
    "x = range(6)\n",
    "plt.plot(x[1:], DT_kappa, '-o', label='DT', color='red')\n",
    "plt.plot(x[1:], RF_kappa, '-o', label='RF', color='blue')\n",
    "plt.plot(x[1:], KNN_kappa, '-o', label='KNN', color='green')\n",
    "plt.plot(x[1:], MLP_kappa, '-o', label='MLP', color='purple')\n",
    "\n",
    "plt.xticks(x[1:])\n",
    "plt.xlabel('Looking back steps')\n",
    "plt.ylabel('Kappa')\n",
    "plt.title('Kappa of different models')\n",
    "\n",
    "plt.legend()\n",
    "plt.show()\n"
   ]
  }
 ],
 "metadata": {
  "kernelspec": {
   "display_name": "Python 3 (ipykernel)",
   "language": "python",
   "name": "python3"
  },
  "language_info": {
   "codemirror_mode": {
    "name": "ipython",
    "version": 3
   },
   "file_extension": ".py",
   "mimetype": "text/x-python",
   "name": "python",
   "nbconvert_exporter": "python",
   "pygments_lexer": "ipython3",
   "version": "3.9.13"
  }
 },
 "nbformat": 4,
 "nbformat_minor": 5
}
